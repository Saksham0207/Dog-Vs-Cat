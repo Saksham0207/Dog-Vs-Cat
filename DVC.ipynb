{
 "cells": [
  {
   "cell_type": "code",
   "execution_count": 1,
   "id": "liable-scientist",
   "metadata": {},
   "outputs": [],
   "source": [
    "import numpy as np\n",
    "import pandas as pd\n",
    "%matplotlib inline\n",
    "import matplotlib as mpl\n",
    "import matplotlib.pyplot as plt"
   ]
  },
  {
   "cell_type": "code",
   "execution_count": 2,
   "id": "polar-dimension",
   "metadata": {},
   "outputs": [],
   "source": [
    "import tensorflow as tf\n",
    "from tensorflow import keras\n",
    "\n",
    "physical_devices = tf.config.experimental.list_physical_devices('GPU')\n",
    "if len(physical_devices) > 0:\n",
    "    tf.config.experimental.set_memory_growth(physical_devices[0], True)"
   ]
  },
  {
   "cell_type": "code",
   "execution_count": 3,
   "id": "seven-result",
   "metadata": {},
   "outputs": [],
   "source": [
    "train_dir = r'C:\\Users\\Saksham Sharma\\Desktop\\train'\n",
    "test_dir = r'C:\\Users\\Saksham Sharma\\Desktop\\test'\n",
    "validation_dir = r'C:\\Users\\Saksham Sharma\\Desktop\\validation'"
   ]
  },
  {
   "cell_type": "code",
   "execution_count": 4,
   "id": "expressed-professor",
   "metadata": {},
   "outputs": [],
   "source": [
    "#to covert jpeg images into RBG matrices:\n",
    "from tensorflow.keras.preprocessing.image import ImageDataGenerator #can be used for data augmentation as well"
   ]
  },
  {
   "cell_type": "code",
   "execution_count": 5,
   "id": "diverse-prayer",
   "metadata": {},
   "outputs": [
    {
     "name": "stdout",
     "output_type": "stream",
     "text": [
      "Found 2000 images belonging to 2 classes.\n",
      "Found 1000 images belonging to 2 classes.\n"
     ]
    }
   ],
   "source": [
    "#generating batches of tensor images data\n",
    "train_datagen = ImageDataGenerator(rescale = 1./255)\n",
    "test_datagen = ImageDataGenerator(rescale  = 1./255)\n",
    "\n",
    "train_generator = train_datagen.flow_from_directory(\n",
    "                    train_dir,\n",
    "                    target_size = (150, 150),\n",
    "                    batch_size = 20,\n",
    "                    class_mode = \"binary\")\n",
    "\n",
    "validation_generator = test_datagen.flow_from_directory(\n",
    "                        validation_dir,\n",
    "                        target_size = (150, 150),\n",
    "                        batch_size = 20,\n",
    "                        class_mode = \"binary\")"
   ]
  },
  {
   "cell_type": "code",
   "execution_count": 6,
   "id": "identified-quarter",
   "metadata": {},
   "outputs": [],
   "source": [
    "from tensorflow.keras import layers\n",
    "from tensorflow.keras import models"
   ]
  },
  {
   "cell_type": "code",
   "execution_count": 7,
   "id": "after-pizza",
   "metadata": {},
   "outputs": [],
   "source": [
    "model = models.Sequential()\n",
    "model.add(layers.Conv2D(32, (3, 3), activation = \"relu\", input_shape = (150, 150, 3)))\n",
    "model.add(layers.MaxPooling2D((2, 2)))\n",
    "model.add(layers.Conv2D(64, (3, 3), activation = \"relu\"))\n",
    "model.add(layers.MaxPooling2D((2, 2)))\n",
    "model.add(layers.Conv2D(128, (3, 3), activation = \"relu\"))\n",
    "model.add(layers.MaxPooling2D((2, 2)))\n",
    "model.add(layers.Conv2D(128, (3, 3), activation = \"relu\"))\n",
    "model.add(layers.MaxPooling2D((2, 2)))\n",
    "\n",
    "model.add(layers.Flatten())\n",
    "model.add(layers.Dense(512, activation = \"relu\"))\n",
    "model.add(layers.Dense(1, activation = \"sigmoid\"))"
   ]
  },
  {
   "cell_type": "code",
   "execution_count": 8,
   "id": "ecological-burning",
   "metadata": {
    "scrolled": false
   },
   "outputs": [
    {
     "name": "stdout",
     "output_type": "stream",
     "text": [
      "Model: \"sequential\"\n",
      "_________________________________________________________________\n",
      "Layer (type)                 Output Shape              Param #   \n",
      "=================================================================\n",
      "conv2d (Conv2D)              (None, 148, 148, 32)      896       \n",
      "_________________________________________________________________\n",
      "max_pooling2d (MaxPooling2D) (None, 74, 74, 32)        0         \n",
      "_________________________________________________________________\n",
      "conv2d_1 (Conv2D)            (None, 72, 72, 64)        18496     \n",
      "_________________________________________________________________\n",
      "max_pooling2d_1 (MaxPooling2 (None, 36, 36, 64)        0         \n",
      "_________________________________________________________________\n",
      "conv2d_2 (Conv2D)            (None, 34, 34, 128)       73856     \n",
      "_________________________________________________________________\n",
      "max_pooling2d_2 (MaxPooling2 (None, 17, 17, 128)       0         \n",
      "_________________________________________________________________\n",
      "conv2d_3 (Conv2D)            (None, 15, 15, 128)       147584    \n",
      "_________________________________________________________________\n",
      "max_pooling2d_3 (MaxPooling2 (None, 7, 7, 128)         0         \n",
      "_________________________________________________________________\n",
      "flatten (Flatten)            (None, 6272)              0         \n",
      "_________________________________________________________________\n",
      "dense (Dense)                (None, 512)               3211776   \n",
      "_________________________________________________________________\n",
      "dense_1 (Dense)              (None, 1)                 513       \n",
      "=================================================================\n",
      "Total params: 3,453,121\n",
      "Trainable params: 3,453,121\n",
      "Non-trainable params: 0\n",
      "_________________________________________________________________\n"
     ]
    }
   ],
   "source": [
    "model.summary()"
   ]
  },
  {
   "cell_type": "code",
   "execution_count": 9,
   "id": "timely-timeline",
   "metadata": {},
   "outputs": [],
   "source": [
    "from tensorflow.keras import optimizers\n",
    "\n",
    "model.compile(loss = \"binary_crossentropy\",\n",
    "              optimizer = optimizers.RMSprop(lr = 1e-4),\n",
    "              metrics = [\"acc\"])"
   ]
  },
  {
   "cell_type": "code",
   "execution_count": 10,
   "id": "greatest-benefit",
   "metadata": {
    "scrolled": false
   },
   "outputs": [
    {
     "name": "stdout",
     "output_type": "stream",
     "text": [
      "Epoch 1/20\n",
      "100/100 [==============================] - 29s 293ms/step - loss: 0.6894 - acc: 0.5430 - val_loss: 0.6764 - val_acc: 0.6350\n",
      "Epoch 2/20\n",
      "100/100 [==============================] - 20s 203ms/step - loss: 0.6511 - acc: 0.6315 - val_loss: 0.6396 - val_acc: 0.6120\n",
      "Epoch 3/20\n",
      "100/100 [==============================] - 21s 206ms/step - loss: 0.6030 - acc: 0.6795 - val_loss: 0.5991 - val_acc: 0.6850\n",
      "Epoch 4/20\n",
      "100/100 [==============================] - 20s 202ms/step - loss: 0.5623 - acc: 0.7035 - val_loss: 0.5849 - val_acc: 0.6870\n",
      "Epoch 5/20\n",
      "100/100 [==============================] - 21s 207ms/step - loss: 0.5358 - acc: 0.7310 - val_loss: 0.5856 - val_acc: 0.6810\n",
      "Epoch 6/20\n",
      "100/100 [==============================] - 21s 205ms/step - loss: 0.5089 - acc: 0.7420 - val_loss: 0.5959 - val_acc: 0.6790\n",
      "Epoch 7/20\n",
      "100/100 [==============================] - 21s 207ms/step - loss: 0.4828 - acc: 0.7665 - val_loss: 0.5682 - val_acc: 0.6970\n",
      "Epoch 8/20\n",
      "100/100 [==============================] - 21s 209ms/step - loss: 0.4594 - acc: 0.7860 - val_loss: 0.5544 - val_acc: 0.7160\n",
      "Epoch 9/20\n",
      "100/100 [==============================] - 20s 204ms/step - loss: 0.4374 - acc: 0.7935 - val_loss: 0.5862 - val_acc: 0.7060\n",
      "Epoch 10/20\n",
      "100/100 [==============================] - 20s 204ms/step - loss: 0.4113 - acc: 0.8030 - val_loss: 0.6187 - val_acc: 0.6850\n",
      "Epoch 11/20\n",
      "100/100 [==============================] - 21s 206ms/step - loss: 0.3890 - acc: 0.8325 - val_loss: 0.5488 - val_acc: 0.7230\n",
      "Epoch 12/20\n",
      "100/100 [==============================] - 20s 204ms/step - loss: 0.3481 - acc: 0.8505 - val_loss: 0.5795 - val_acc: 0.7170\n",
      "Epoch 13/20\n",
      "100/100 [==============================] - 21s 206ms/step - loss: 0.3293 - acc: 0.8640 - val_loss: 0.6825 - val_acc: 0.7050\n",
      "Epoch 14/20\n",
      "100/100 [==============================] - 21s 206ms/step - loss: 0.3055 - acc: 0.8675 - val_loss: 0.5656 - val_acc: 0.7300\n",
      "Epoch 15/20\n",
      "100/100 [==============================] - 21s 209ms/step - loss: 0.2789 - acc: 0.8870 - val_loss: 0.6127 - val_acc: 0.7310\n",
      "Epoch 16/20\n",
      "100/100 [==============================] - 21s 209ms/step - loss: 0.2572 - acc: 0.9005 - val_loss: 0.6218 - val_acc: 0.7280\n",
      "Epoch 17/20\n",
      "100/100 [==============================] - 21s 206ms/step - loss: 0.2324 - acc: 0.9090 - val_loss: 0.6022 - val_acc: 0.7310\n",
      "Epoch 18/20\n",
      "100/100 [==============================] - 19s 185ms/step - loss: 0.2123 - acc: 0.9175 - val_loss: 0.6107 - val_acc: 0.7380\n",
      "Epoch 19/20\n",
      "100/100 [==============================] - 10s 97ms/step - loss: 0.1846 - acc: 0.9340 - val_loss: 0.6808 - val_acc: 0.7280\n",
      "Epoch 20/20\n",
      "100/100 [==============================] - 10s 95ms/step - loss: 0.1686 - acc: 0.9395 - val_loss: 0.7489 - val_acc: 0.7140\n"
     ]
    }
   ],
   "source": [
    "history = model.fit_generator(train_generator,\n",
    "                             steps_per_epoch = 100,  # (number of images / batch size)\n",
    "                             epochs = 20,\n",
    "                             validation_data = validation_generator,\n",
    "                             validation_steps = 50)"
   ]
  },
  {
   "cell_type": "code",
   "execution_count": 12,
   "id": "executive-dealer",
   "metadata": {
    "scrolled": false
   },
   "outputs": [
    {
     "data": {
      "image/png": "[encoded data removed]",
      "text/plain": [
       "<Figure size 720x720 with 1 Axes>"
      ]
     },
     "metadata": {
      "needs_background": "light"
     },
     "output_type": "display_data"
    }
   ],
   "source": [
    "pd.DataFrame(history.history).plot(figsize = (10, 10))\n",
    "plt.grid(True)\n",
    "plt.gca().set_ylim(0, 1)\n",
    "plt.show()"
   ]
  },
  {
   "cell_type": "markdown",
   "id": "fitting-spouse",
   "metadata": {},
   "source": [
    "AS CLEARLY SEEN FROM TH EGRAPH THAT THERE IS A LOT OF DIFFERENCE BETWEEN TRAINING AND VALIDATION ACCURACY, WHICH IS A CLEAR SIGN OF OVERFITTING"
   ]
  },
  {
   "cell_type": "code",
   "execution_count": 14,
   "id": "injured-composition",
   "metadata": {},
   "outputs": [],
   "source": [
    "from tensorflow.keras import backend as K\n",
    "K.clear_session()\n",
    "del model"
   ]
  },
  {
   "cell_type": "code",
   "execution_count": null,
   "id": "little-toolbox",
   "metadata": {},
   "outputs": [],
   "source": []
  }
 ],
 "metadata": {
  "kernelspec": {
   "display_name": "gputest",
   "language": "python",
   "name": "gputest"
  },
  "language_info": {
   "codemirror_mode": {
    "name": "ipython",
    "version": 3
   },
   "file_extension": ".py",
   "mimetype": "text/x-python",
   "name": "python",
   "nbconvert_exporter": "python",
   "pygments_lexer": "ipython3",
   "version": "3.6.12"
  }
 },
 "nbformat": 4,
 "nbformat_minor": 5
}
