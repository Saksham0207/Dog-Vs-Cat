{
 "cells": [
  {
   "cell_type": "code",
   "execution_count": 1,
   "id": "basic-simple",
   "metadata": {},
   "outputs": [],
   "source": [
    "import numpy as np\n",
    "import pandas as pd\n",
    "%matplotlib inline\n",
    "import matplotlib as mpl\n",
    "import matplotlib.pyplot as plt"
   ]
  },
  {
   "cell_type": "code",
   "execution_count": 2,
   "id": "metropolitan-regular",
   "metadata": {},
   "outputs": [],
   "source": [
    "import tensorflow as tf\n",
    "from tensorflow import keras"
   ]
  },
  {
   "cell_type": "code",
   "execution_count": 3,
   "id": "colonial-directory",
   "metadata": {},
   "outputs": [],
   "source": [
    "#the following code is used to restrict the usage of GPU upto half its maximum capacity\n",
    "physical_devices = tf.config.experimental.list_physical_devices('GPU')\n",
    "if len(physical_devices) > 0:\n",
    "    tf.config.experimental.set_memory_growth(physical_devices[0], True)"
   ]
  },
  {
   "cell_type": "code",
   "execution_count": 4,
   "id": "treated-government",
   "metadata": {},
   "outputs": [],
   "source": [
    "train_dir = r'C:\\Users\\Saksham Sharma\\Desktop\\ML Projects\\dog vs cat\\train'\n",
    "test_dir = r'C:\\Users\\Saksham Sharma\\Desktop\\ML Projects\\dog vs cat\\test'\n",
    "validation_dir = r'C:\\Users\\Saksham Sharma\\Desktop\\ML Projects\\dog vs cat\\validation'"
   ]
  },
  {
   "cell_type": "code",
   "execution_count": 5,
   "id": "surgical-conference",
   "metadata": {},
   "outputs": [
    {
     "name": "stdout",
     "output_type": "stream",
     "text": [
      "Found 2000 images belonging to 2 classes.\n",
      "Found 1000 images belonging to 2 classes.\n"
     ]
    }
   ],
   "source": [
    "#performing data augmentation\n",
    "from tensorflow.keras.preprocessing.image import ImageDataGenerator\n",
    "\n",
    "train_datagen = ImageDataGenerator(\n",
    "    rescale = 1./255,\n",
    "    rotation_range = 40,\n",
    "    width_shift_range = 0.2,\n",
    "    height_shift_range = 0.2,\n",
    "    shear_range = 0.2,\n",
    "    zoom_range = 0.2,\n",
    "    horizontal_flip = True)\n",
    "\n",
    "test_datagen = ImageDataGenerator(rescale  = 1./255)\n",
    "\n",
    "train_generator = train_datagen.flow_from_directory(\n",
    "                    train_dir,\n",
    "                    target_size = (150, 150),\n",
    "                    batch_size = 32,\n",
    "                    class_mode = \"binary\")\n",
    "\n",
    "validation_generator = test_datagen.flow_from_directory(\n",
    "                        validation_dir,\n",
    "                        target_size = (150, 150),\n",
    "                        batch_size = 32,\n",
    "                        class_mode = \"binary\")"
   ]
  },
  {
   "cell_type": "code",
   "execution_count": 6,
   "id": "honest-broadcast",
   "metadata": {},
   "outputs": [],
   "source": [
    "#importing the transfer learning model\n",
    "from tensorflow.keras.applications import VGG16\n",
    "\n",
    "conv_base = VGG16(weights = \"imagenet\",\n",
    "                  include_top = False,  # used as we only want the convolutional base rather than the whole model\n",
    "                 input_shape = (150, 150, 3))"
   ]
  },
  {
   "cell_type": "code",
   "execution_count": 7,
   "id": "cultural-acceptance",
   "metadata": {},
   "outputs": [
    {
     "name": "stdout",
     "output_type": "stream",
     "text": [
      "Model: \"vgg16\"\n",
      "_________________________________________________________________\n",
      "Layer (type)                 Output Shape              Param #   \n",
      "=================================================================\n",
      "input_1 (InputLayer)         [(None, 150, 150, 3)]     0         \n",
      "_________________________________________________________________\n",
      "block1_conv1 (Conv2D)        (None, 150, 150, 64)      1792      \n",
      "_________________________________________________________________\n",
      "block1_conv2 (Conv2D)        (None, 150, 150, 64)      36928     \n",
      "_________________________________________________________________\n",
      "block1_pool (MaxPooling2D)   (None, 75, 75, 64)        0         \n",
      "_________________________________________________________________\n",
      "block2_conv1 (Conv2D)        (None, 75, 75, 128)       73856     \n",
      "_________________________________________________________________\n",
      "block2_conv2 (Conv2D)        (None, 75, 75, 128)       147584    \n",
      "_________________________________________________________________\n",
      "block2_pool (MaxPooling2D)   (None, 37, 37, 128)       0         \n",
      "_________________________________________________________________\n",
      "block3_conv1 (Conv2D)        (None, 37, 37, 256)       295168    \n",
      "_________________________________________________________________\n",
      "block3_conv2 (Conv2D)        (None, 37, 37, 256)       590080    \n",
      "_________________________________________________________________\n",
      "block3_conv3 (Conv2D)        (None, 37, 37, 256)       590080    \n",
      "_________________________________________________________________\n",
      "block3_pool (MaxPooling2D)   (None, 18, 18, 256)       0         \n",
      "_________________________________________________________________\n",
      "block4_conv1 (Conv2D)        (None, 18, 18, 512)       1180160   \n",
      "_________________________________________________________________\n",
      "block4_conv2 (Conv2D)        (None, 18, 18, 512)       2359808   \n",
      "_________________________________________________________________\n",
      "block4_conv3 (Conv2D)        (None, 18, 18, 512)       2359808   \n",
      "_________________________________________________________________\n",
      "block4_pool (MaxPooling2D)   (None, 9, 9, 512)         0         \n",
      "_________________________________________________________________\n",
      "block5_conv1 (Conv2D)        (None, 9, 9, 512)         2359808   \n",
      "_________________________________________________________________\n",
      "block5_conv2 (Conv2D)        (None, 9, 9, 512)         2359808   \n",
      "_________________________________________________________________\n",
      "block5_conv3 (Conv2D)        (None, 9, 9, 512)         2359808   \n",
      "_________________________________________________________________\n",
      "block5_pool (MaxPooling2D)   (None, 4, 4, 512)         0         \n",
      "=================================================================\n",
      "Total params: 14,714,688\n",
      "Trainable params: 14,714,688\n",
      "Non-trainable params: 0\n",
      "_________________________________________________________________\n"
     ]
    }
   ],
   "source": [
    "conv_base.summary()"
   ]
  },
  {
   "cell_type": "code",
   "execution_count": 8,
   "id": "cordless-award",
   "metadata": {},
   "outputs": [],
   "source": [
    "#adding the final hidden layers and the output layer\n",
    "from tensorflow.keras import models\n",
    "from tensorflow.keras import layers\n",
    "\n",
    "model = models.Sequential()\n",
    "model.add(conv_base)\n",
    "model.add(layers.Flatten())\n",
    "model.add(layers.Dense(256, activation = \"relu\"))\n",
    "model.add(layers.Dense(1, activation = 'sigmoid'))"
   ]
  },
  {
   "cell_type": "code",
   "execution_count": 9,
   "id": "exact-conditioning",
   "metadata": {},
   "outputs": [
    {
     "name": "stdout",
     "output_type": "stream",
     "text": [
      "Model: \"sequential\"\n",
      "_________________________________________________________________\n",
      "Layer (type)                 Output Shape              Param #   \n",
      "=================================================================\n",
      "vgg16 (Model)                (None, 4, 4, 512)         14714688  \n",
      "_________________________________________________________________\n",
      "flatten (Flatten)            (None, 8192)              0         \n",
      "_________________________________________________________________\n",
      "dense (Dense)                (None, 256)               2097408   \n",
      "_________________________________________________________________\n",
      "dense_1 (Dense)              (None, 1)                 257       \n",
      "=================================================================\n",
      "Total params: 16,812,353\n",
      "Trainable params: 16,812,353\n",
      "Non-trainable params: 0\n",
      "_________________________________________________________________\n"
     ]
    }
   ],
   "source": [
    "model.summary()"
   ]
  },
  {
   "cell_type": "code",
   "execution_count": 10,
   "id": "imperial-sellers",
   "metadata": {},
   "outputs": [],
   "source": [
    "# to freeze the conv layer:\n",
    "# conv_base.trainable = False\n",
    "from tensorflow.keras import optimizers\n",
    "\n",
    "model.compile(loss = \"binary_crossentropy\",\n",
    "              optimizer = optimizers.RMSprop(lr = 2e-5),\n",
    "              metrics = [\"acc\"])"
   ]
  },
  {
   "cell_type": "code",
   "execution_count": 11,
   "id": "adapted-conference",
   "metadata": {},
   "outputs": [],
   "source": [
    "#if you wish to save your madel after each epoch\n",
    "checkpoint_cb = keras.callbacks.ModelCheckpoint(\"CNN_project_Model - {epoch:02d}.h5\")"
   ]
  },
  {
   "cell_type": "code",
   "execution_count": 12,
   "id": "growing-hindu",
   "metadata": {
    "scrolled": false
   },
   "outputs": [
    {
     "name": "stdout",
     "output_type": "stream",
     "text": [
      "Epoch 1/30\n",
      "100/100 [==============================] - 80s 800ms/step - loss: 0.4528 - acc: 0.7778 - val_loss: 0.1829 - val_acc: 0.9327\n",
      "Epoch 2/30\n",
      "100/100 [==============================] - 63s 629ms/step - loss: 0.2390 - acc: 0.8951 - val_loss: 0.1899 - val_acc: 0.9289\n",
      "Epoch 3/30\n",
      "100/100 [==============================] - 63s 630ms/step - loss: 0.1810 - acc: 0.9284 - val_loss: 0.1130 - val_acc: 0.9607\n",
      "Epoch 4/30\n",
      "100/100 [==============================] - 63s 628ms/step - loss: 0.1526 - acc: 0.9403 - val_loss: 0.1135 - val_acc: 0.9543\n",
      "Epoch 5/30\n",
      "100/100 [==============================] - 63s 627ms/step - loss: 0.1210 - acc: 0.9488 - val_loss: 0.0988 - val_acc: 0.9600\n",
      "Epoch 6/30\n",
      "100/100 [==============================] - 63s 625ms/step - loss: 0.0987 - acc: 0.9635 - val_loss: 0.0799 - val_acc: 0.9708\n",
      "Epoch 7/30\n",
      "100/100 [==============================] - 63s 630ms/step - loss: 0.0869 - acc: 0.9640 - val_loss: 0.0889 - val_acc: 0.9727\n",
      "Epoch 8/30\n",
      "100/100 [==============================] - 63s 627ms/step - loss: 0.0708 - acc: 0.9736 - val_loss: 0.0943 - val_acc: 0.9657\n",
      "Epoch 9/30\n",
      "100/100 [==============================] - 63s 631ms/step - loss: 0.0724 - acc: 0.9708 - val_loss: 0.0870 - val_acc: 0.9695\n",
      "Epoch 10/30\n",
      "100/100 [==============================] - 63s 625ms/step - loss: 0.0453 - acc: 0.9833 - val_loss: 0.0864 - val_acc: 0.9721\n",
      "Epoch 11/30\n",
      "100/100 [==============================] - 62s 623ms/step - loss: 0.0487 - acc: 0.9833 - val_loss: 0.1103 - val_acc: 0.9714\n",
      "Epoch 12/30\n",
      "100/100 [==============================] - 63s 633ms/step - loss: 0.0691 - acc: 0.9782 - val_loss: 0.1031 - val_acc: 0.9702\n",
      "Epoch 13/30\n",
      "100/100 [==============================] - 63s 630ms/step - loss: 0.0517 - acc: 0.9809 - val_loss: 0.2957 - val_acc: 0.9207\n",
      "Epoch 14/30\n",
      "100/100 [==============================] - 63s 629ms/step - loss: 0.0391 - acc: 0.9867 - val_loss: 0.1024 - val_acc: 0.9708\n",
      "Epoch 15/30\n",
      "100/100 [==============================] - 63s 633ms/step - loss: 0.0453 - acc: 0.9826 - val_loss: 0.1352 - val_acc: 0.9657\n",
      "Epoch 16/30\n",
      "100/100 [==============================] - 63s 632ms/step - loss: 0.0442 - acc: 0.9871 - val_loss: 0.0920 - val_acc: 0.9714\n",
      "Epoch 17/30\n",
      "100/100 [==============================] - 63s 632ms/step - loss: 0.0445 - acc: 0.9833 - val_loss: 0.2028 - val_acc: 0.9619\n",
      "Epoch 18/30\n",
      "100/100 [==============================] - 63s 625ms/step - loss: 0.0354 - acc: 0.9880 - val_loss: 0.1128 - val_acc: 0.9708\n",
      "Epoch 19/30\n",
      "100/100 [==============================] - 63s 627ms/step - loss: 0.0273 - acc: 0.9912 - val_loss: 0.1036 - val_acc: 0.9759\n",
      "Epoch 20/30\n",
      "100/100 [==============================] - 63s 629ms/step - loss: 0.0477 - acc: 0.9887 - val_loss: 0.1400 - val_acc: 0.9607\n",
      "Epoch 21/30\n",
      "100/100 [==============================] - 62s 624ms/step - loss: 0.0218 - acc: 0.9908 - val_loss: 0.1328 - val_acc: 0.9734\n",
      "Epoch 22/30\n",
      "100/100 [==============================] - 63s 629ms/step - loss: 0.0332 - acc: 0.9874 - val_loss: 0.0918 - val_acc: 0.9740\n",
      "Epoch 23/30\n",
      "100/100 [==============================] - 63s 633ms/step - loss: 0.0319 - acc: 0.9865 - val_loss: 0.1352 - val_acc: 0.9651\n",
      "Epoch 24/30\n",
      "100/100 [==============================] - 62s 625ms/step - loss: 0.0296 - acc: 0.9896 - val_loss: 0.1213 - val_acc: 0.9702\n",
      "Epoch 25/30\n",
      "100/100 [==============================] - 63s 625ms/step - loss: 0.0282 - acc: 0.9905 - val_loss: 0.1163 - val_acc: 0.9664\n",
      "Epoch 26/30\n",
      "100/100 [==============================] - 63s 630ms/step - loss: 0.0240 - acc: 0.9909 - val_loss: 0.1217 - val_acc: 0.9753\n",
      "Epoch 27/30\n",
      "100/100 [==============================] - 63s 626ms/step - loss: 0.0281 - acc: 0.9899 - val_loss: 0.1149 - val_acc: 0.9689\n",
      "Epoch 28/30\n",
      "100/100 [==============================] - 62s 624ms/step - loss: 0.0283 - acc: 0.9905 - val_loss: 0.1060 - val_acc: 0.9708\n",
      "Epoch 29/30\n",
      "100/100 [==============================] - 63s 626ms/step - loss: 0.0198 - acc: 0.9943 - val_loss: 0.1228 - val_acc: 0.9765\n",
      "Epoch 30/30\n",
      "100/100 [==============================] - 63s 627ms/step - loss: 0.0307 - acc: 0.9877 - val_loss: 0.1108 - val_acc: 0.9714\n"
     ]
    }
   ],
   "source": [
    "history = model.fit_generator(train_generator,\n",
    "                             steps_per_epoch = 100,  # (number of images / batch size)\n",
    "                             epochs = 30,\n",
    "                             validation_data = validation_generator,\n",
    "                             validation_steps = 50,\n",
    "                             callbacks = [checkpoint_cb])"
   ]
  },
  {
   "cell_type": "code",
   "execution_count": 13,
   "id": "removable-quality",
   "metadata": {},
   "outputs": [
    {
     "data": {
      "image/png": "[encoded data removed]",
      "text/plain": [
       "<Figure size 720x720 with 1 Axes>"
      ]
     },
     "metadata": {
      "needs_background": "light"
     },
     "output_type": "display_data"
    }
   ],
   "source": [
    "pd.DataFrame(history.history).plot(figsize = (10, 10))\n",
    "plt.grid(True)\n",
    "plt.gca().set_ylim(0, 1)\n",
    "plt.show()"
   ]
  },
  {
   "cell_type": "markdown",
   "id": "brown-wings",
   "metadata": {},
   "source": [
    "As seen in the graph above, the val accuracy curve seems to reach an asymptote hence training for further epochs is less likely to help."
   ]
  },
  {
   "cell_type": "code",
   "execution_count": 14,
   "id": "demographic-closer",
   "metadata": {},
   "outputs": [],
   "source": [
    "#now we save our data after each epoch traning into a csv filoe for future reference\n",
    "hist_df = pd.DataFrame(history.history)\n",
    "\n",
    "hist_csv_file = \"history.csv\"\n",
    "with open(hist_csv_file, mode = \"w\") as f:\n",
    "    hist_df.to_csv(f)"
   ]
  },
  {
   "cell_type": "code",
   "execution_count": 15,
   "id": "beneficial-network",
   "metadata": {},
   "outputs": [
    {
     "name": "stdout",
     "output_type": "stream",
     "text": [
      "Found 1000 images belonging to 2 classes.\n"
     ]
    },
    {
     "data": {
      "text/plain": [
       "[0.17738609860189172, 0.964]"
      ]
     },
     "execution_count": 15,
     "metadata": {},
     "output_type": "execute_result"
    }
   ],
   "source": [
    "#now we evaluate our test datset\n",
    "test_generator = test_datagen.flow_from_directory(\n",
    "            test_dir,\n",
    "            target_size = (150, 150),\n",
    "            batch_size = 20,\n",
    "            class_mode = \"binary\")\n",
    "\n",
    "model.evaluate_generator(test_generator, steps = 50)"
   ]
  },
  {
   "cell_type": "markdown",
   "id": "manufactured-technician",
   "metadata": {},
   "source": [
    "Hence our final test accuracy comes out to be 96.4%"
   ]
  }
 ],
 "metadata": {
  "kernelspec": {
   "display_name": "gputest",
   "language": "python",
   "name": "gputest"
  },
  "language_info": {
   "codemirror_mode": {
    "name": "ipython",
    "version": 3
   },
   "file_extension": ".py",
   "mimetype": "text/x-python",
   "name": "python",
   "nbconvert_exporter": "python",
   "pygments_lexer": "ipython3",
   "version": "3.6.12"
  }
 },
 "nbformat": 4,
 "nbformat_minor": 5
}
